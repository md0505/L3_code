{
 "cells": [
  {
   "cell_type": "code",
   "execution_count": 1,
   "metadata": {},
   "outputs": [],
   "source": [
    "using JuMP, GLPK"
   ]
  },
  {
   "cell_type": "code",
   "execution_count": 2,
   "metadata": {},
   "outputs": [],
   "source": [
    "# Declare the predefined parameters\n",
    "cnorm=32.0 # production cost of a bike in normal hours\n",
    "cover=40.0 # the production cost of a bike in overtime hours\n",
    "cstock=5.0 # the monthly storage cost per bike\n",
    "ISTOCK=2.0 # the initial stock level\n",
    "CAP=30 # production capacity per month\n",
    "\n",
    "demand=[30.0, 15.0, 15.0, 25.0, 33.0, 40.0, 45.0, 45.0, 26.0, 14.0, 25.0, 30.0]; # the forecasted demand\n",
    "n=length(demand);"
   ]
  },
  {
   "cell_type": "code",
   "execution_count": 3,
   "metadata": {},
   "outputs": [],
   "source": [
    "# Linear programming optimization\n",
    "model=Model(with_optimizer(GLPK.Optimizer));"
   ]
  },
  {
   "cell_type": "code",
   "execution_count": 4,
   "metadata": {},
   "outputs": [],
   "source": [
    "# decision varaibles\n",
    "@variable(model,pnorm[1:n], lower_bound=0, upper_bound=CAP); # number of bikes to be produced in normal working hours during month t.\n",
    "@variable(model,pover[1:n], lower_bound=0, upper_bound=0.5*CAP); # number of bikes to be produced in overtime hours during month t.\n",
    "@variable(model,store[0:n]); # number of bikes held in stock at the end of the month t.\n",
    "fix(store[0], ISTOCK; force = true)"
   ]
  },
  {
   "cell_type": "code",
   "execution_count": 5,
   "metadata": {},
   "outputs": [
    {
     "data": {
      "text/latex": [
       "$$ 32 pnorm_{1} + 40 pover_{1} + 5 store_{1} + 32 pnorm_{2} + 40 pover_{2} + 5 store_{2} + 32 pnorm_{3} + 40 pover_{3} + 5 store_{3} + 32 pnorm_{4} + 40 pover_{4} + 5 store_{4} + 32 pnorm_{5} + 40 pover_{5} + 5 store_{5} + 32 pnorm_{6} + 40 pover_{6} + 5 store_{6} + 32 pnorm_{7} + 40 pover_{7} + 5 store_{7} + 32 pnorm_{8} + 40 pover_{8} + 5 store_{8} + 32 pnorm_{9} + 40 pover_{9} + 5 store_{9} + 32 pnorm_{10} + 40 pover_{10} + 5 store_{10} + 32 pnorm_{11} + 40 pover_{11} + 5 store_{11} + 32 pnorm_{12} + 40 pover_{12} + 5 store_{12} $$"
      ],
      "text/plain": [
       "32 pnorm[1] + 40 pover[1] + 5 store[1] + 32 pnorm[2] + 40 pover[2] + 5 store[2] + 32 pnorm[3] + 40 pover[3] + 5 store[3] + 32 pnorm[4] + 40 pover[4] + 5 store[4] + 32 pnorm[5] + 40 pover[5] + 5 store[5] + 32 pnorm[6] + 40 pover[6] + 5 store[6] + 32 pnorm[7] + 40 pover[7] + 5 store[7] + 32 pnorm[8] + 40 pover[8] + 5 store[8] + 32 pnorm[9] + 40 pover[9] + 5 store[9] + 32 pnorm[10] + 40 pover[10] + 5 store[10] + 32 pnorm[11] + 40 pover[11] + 5 store[11] + 32 pnorm[12] + 40 pover[12] + 5 store[12]"
      ]
     },
     "execution_count": 5,
     "metadata": {},
     "output_type": "execute_result"
    }
   ],
   "source": [
    "# objective function\n",
    "@objective(model,Min,sum(cnorm*pnorm[i]+cover*pover[i]+cstock*store[i] for i in 1:n))     "
   ]
  },
  {
   "cell_type": "code",
   "execution_count": 6,
   "metadata": {},
   "outputs": [],
   "source": [
    "# constraints\n",
    "@constraint(model,[i=1:n],pnorm[i]+pover[i]+store[i-1]==demand[i]+store[i]);\n",
    "@constraint(model,[i=1:n],store[i]>=0);"
   ]
  },
  {
   "cell_type": "code",
   "execution_count": 7,
   "metadata": {},
   "outputs": [],
   "source": [
    "# solve optimization problem\n",
    "JuMP.optimize!(model)"
   ]
  },
  {
   "cell_type": "code",
   "execution_count": 9,
   "metadata": {},
   "outputs": [
    {
     "data": {
      "text/plain": [
       "12-element Array{Float64,1}:\n",
       " 28.0\n",
       " 15.0\n",
       " 15.0\n",
       " 28.0\n",
       " 30.0\n",
       " 30.0\n",
       " 30.0\n",
       " 30.0\n",
       " 26.0\n",
       " 14.0\n",
       " 25.0\n",
       " 30.0"
      ]
     },
     "execution_count": 9,
     "metadata": {},
     "output_type": "execute_result"
    }
   ],
   "source": [
    "# print optimal values\n",
    "JuMP.value.(pnorm)"
   ]
  },
  {
   "cell_type": "code",
   "execution_count": 10,
   "metadata": {},
   "outputs": [
    {
     "data": {
      "text/plain": [
       "12-element Array{Float64,1}:\n",
       "  0.0\n",
       "  0.0\n",
       "  0.0\n",
       "  0.0\n",
       "  0.0\n",
       " 10.0\n",
       " 15.0\n",
       " 15.0\n",
       "  0.0\n",
       "  0.0\n",
       "  0.0\n",
       "  0.0"
      ]
     },
     "execution_count": 10,
     "metadata": {},
     "output_type": "execute_result"
    }
   ],
   "source": [
    "JuMP.value.(pover)"
   ]
  },
  {
   "cell_type": "code",
   "execution_count": 11,
   "metadata": {},
   "outputs": [
    {
     "data": {
      "text/plain": [
       "1-dimensional DenseAxisArray{Float64,1,...} with index sets:\n",
       "    Dimension 1, 0:12\n",
       "And data, a 13-element Array{Float64,1}:\n",
       " 2.0\n",
       " 0.0\n",
       " 0.0\n",
       " 0.0\n",
       " 3.0\n",
       " 0.0\n",
       " 0.0\n",
       " 0.0\n",
       " 0.0\n",
       " 0.0\n",
       " 0.0\n",
       " 0.0\n",
       " 0.0"
      ]
     },
     "execution_count": 11,
     "metadata": {},
     "output_type": "execute_result"
    }
   ],
   "source": [
    "JuMP.value.(store)"
   ]
  },
  {
   "cell_type": "code",
   "execution_count": 12,
   "metadata": {},
   "outputs": [
    {
     "name": "stdout",
     "output_type": "stream",
     "text": [
      "11247.0"
     ]
    }
   ],
   "source": [
    "#print objective function value\n",
    "print(JuMP.objective_value(model))"
   ]
  }
 ],
 "metadata": {
  "@webio": {
   "lastCommId": null,
   "lastKernelId": null
  },
  "kernelspec": {
   "display_name": "Julia 1.3.1",
   "language": "julia",
   "name": "julia-1.3"
  },
  "language_info": {
   "file_extension": ".jl",
   "mimetype": "application/julia",
   "name": "julia",
   "version": "1.3.1"
  }
 },
 "nbformat": 4,
 "nbformat_minor": 2
}
