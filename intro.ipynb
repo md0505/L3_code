{
 "cells": [
  {
   "cell_type": "code",
   "execution_count": 1,
   "metadata": {},
   "outputs": [],
   "source": [
    "using JuMP, GLPK"
   ]
  },
  {
   "cell_type": "code",
   "execution_count": 2,
   "metadata": {},
   "outputs": [
    {
     "data": {
      "text/latex": [
       "$ 4 x1 - 3 x2 + 2 x3 \\leq 10.0 $"
      ],
      "text/plain": [
       "4 x1 - 3 x2 + 2 x3 <= 10.0"
      ]
     },
     "execution_count": 2,
     "metadata": {},
     "output_type": "execute_result"
    }
   ],
   "source": [
    "# Linear programming optimization\n",
    "model=Model(with_optimizer(GLPK.Optimizer))\n",
    "\n",
    "# decision varaibles\n",
    "@variable(model,x1>=0)\n",
    "@variable(model,x2>=0)\n",
    "@variable(model,x3>=0)\n",
    "\n",
    "# objective function\n",
    "@objective(model,Min,3x1-2x2+5x3)\n",
    "\n",
    "# constraints\n",
    "@constraint(model,2x1+x2-x3>=8)\n",
    "@constraint(model,x1-2x2+3x3>=4)\n",
    "@constraint(model,4x1-3x2+2x3<=10)"
   ]
  },
  {
   "cell_type": "code",
   "execution_count": 3,
   "metadata": {},
   "outputs": [],
   "source": [
    "# solve optimization problem\n",
    "JuMP.optimize!(model)"
   ]
  },
  {
   "cell_type": "code",
   "execution_count": 4,
   "metadata": {},
   "outputs": [
    {
     "data": {
      "text/plain": [
       "3-element Array{Float64,1}:\n",
       " 3.5999999999999996\n",
       " 2.8               \n",
       " 2.0               "
      ]
     },
     "execution_count": 4,
     "metadata": {},
     "output_type": "execute_result"
    }
   ],
   "source": [
    "# print optimal values\n",
    "JuMP.value.([x1,x2,x3])"
   ]
  },
  {
   "cell_type": "code",
   "execution_count": 5,
   "metadata": {},
   "outputs": [
    {
     "name": "stdout",
     "output_type": "stream",
     "text": [
      "15.2"
     ]
    }
   ],
   "source": [
    "#print objective function value\n",
    "print(JuMP.objective_value(model))"
   ]
  }
 ],
 "metadata": {
  "@webio": {
   "lastCommId": null,
   "lastKernelId": null
  },
  "kernelspec": {
   "display_name": "Julia 1.3.1",
   "language": "julia",
   "name": "julia-1.3"
  },
  "language_info": {
   "file_extension": ".jl",
   "mimetype": "application/julia",
   "name": "julia",
   "version": "1.3.1"
  }
 },
 "nbformat": 4,
 "nbformat_minor": 4
}
